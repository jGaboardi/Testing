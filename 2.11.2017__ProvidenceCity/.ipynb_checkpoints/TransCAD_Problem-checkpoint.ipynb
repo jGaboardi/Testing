{
 "cells": [
  {
   "cell_type": "code",
   "execution_count": 1,
   "metadata": {
    "collapsed": false
   },
   "outputs": [],
   "source": [
    "\n",
    "#    GNU LESSER GENERAL PUBLIC LICENSE\n",
    "#    Version 3, 29 June 2007\n",
    "#        Copyright (C) 2007 Free Software Foundation, Inc. <http://fsf.org/>\n",
    "#            Everyone is permitted to copy and distribute verbatim copies\n",
    "#                of this license document, but changing it is not allowed.\n",
    "#\n"
   ]
  },
  {
   "cell_type": "markdown",
   "metadata": {},
   "source": [
    "# How can it be possible for costs to increase when calculating shortest path as centroid connectors are added?"
   ]
  },
  {
   "cell_type": "code",
   "execution_count": 2,
   "metadata": {
    "collapsed": false
   },
   "outputs": [
    {
     "name": "stdout",
     "output_type": "stream",
     "text": [
      "Pandas v0.19.2\n",
      "Python v2.7.12 | packaged by conda-forge | (default, Feb 10 2017, 07:08:51) \n",
      "[GCC 4.2.1 Compatible Apple LLVM 7.3.0 (clang-703.0.31)]\n"
     ]
    }
   ],
   "source": [
    "import pandas as pd\n",
    "import sys\n",
    "print \"Pandas v\"+pd.__version__\n",
    "print \"Python v\"+sys.version"
   ]
  },
  {
   "cell_type": "code",
   "execution_count": 3,
   "metadata": {
    "collapsed": true
   },
   "outputs": [],
   "source": [
    "# Read in all matrices (4 in this case)\n",
    "def read_in_mtxs(connectors, directory=None, spatial_extent=None):\n",
    "    df_list = []\n",
    "    for count in connectors:\n",
    "        connector_count = \"/\"+str(count)+\"_Connector/\"\n",
    "        data_path = directory+spatial_extent+connector_count\n",
    "        data_file = data_path+spatial_extent+\"_Matrix_\"+connector_count[1]+\"_MATRIX.csv\"\n",
    "        matrix = pd.read_csv(data_file, index_col=\"PO_Node\")\n",
    "        matrix.columns.name = str(count)+\"___Cent_Node\"\n",
    "        df_list.append(matrix) \n",
    "    return df_list"
   ]
  },
  {
   "cell_type": "code",
   "execution_count": 4,
   "metadata": {
    "collapsed": false
   },
   "outputs": [],
   "source": [
    "# Function to compare cost matices\n",
    "def network_travel_time_comparision(scenarios):\n",
    "    increases_each_scenario = []\n",
    "    for frame in range(len(scenarios)):\n",
    "        global_tt = scenarios[frame].sum().sum()\n",
    "        increases_each_scenario.append([])\n",
    "        if frame == 0:\n",
    "            increases_each_scenario[frame] = [0, [0], global_tt]\n",
    "        elif frame != 0:\n",
    "            bool_array = scenarios[frame-1] >= scenarios[frame]\n",
    "            increase_count = 0\n",
    "            increase_tt = [0]\n",
    "            for column in bool_array.columns:\n",
    "                for record in bool_array.index:\n",
    "                    if bool_array[column][record] == False:\n",
    "                        increase_count += 1\n",
    "                        increase_tt.append(scenarios[frame][column][record])\n",
    "            increases_each_scenario[frame] = [increase_count, increase_tt, global_tt]\n",
    "        \n",
    "    return increases_each_scenario"
   ]
  },
  {
   "cell_type": "code",
   "execution_count": 5,
   "metadata": {
    "collapsed": true
   },
   "outputs": [],
   "source": [
    "# Set file path\n",
    "top_dir = \"/Users/jgaboardi/Testing/2.11.2017__ProvidenceCity/\"\n",
    "extent = \"City\"\n",
    "connectors = [1,2,3,4]"
   ]
  },
  {
   "cell_type": "code",
   "execution_count": 6,
   "metadata": {
    "collapsed": false
   },
   "outputs": [],
   "source": [
    "# Read in the four cost matrices\n",
    "scenarios = read_in_mtxs(connectors, \n",
    "                         directory=top_dir, \n",
    "                         spatial_extent=extent)\n",
    "\n",
    "# Compare travel cost cell by cell across matrices\n",
    "network_diags = network_travel_time_comparision(scenarios)\n",
    "\n",
    "# Total count of cost increases \n",
    "problem_count = sum([network_diags[run][0]\\\n",
    "                     for run in range(len(network_diags))])\n",
    "problem_list = list(enumerate([network_diags[run][0]\\\n",
    "                               for run in range(len(network_diags))], 1))\n",
    "\n",
    "# Total cost increases (minutes)\n",
    "increase_time = round(sum([sum(network_diags[run][1])\\\n",
    "                           for run in range(len(network_diags))]), 4)\n",
    "increase_time_list = list(enumerate([round(sum(network_diags[run][1]), 4)\\\n",
    "                                     for run in range(len(network_diags))], 1))\n",
    "\n",
    "# Total travel time along the network in each scenario (minutes)\n",
    "total_time = [round(network_diags[run][2], 4)\\\n",
    "              for run in range(len(network_diags))]\n",
    "total_time_list = list(enumerate(total_time, 1))"
   ]
  },
  {
   "cell_type": "code",
   "execution_count": 7,
   "metadata": {
    "collapsed": false
   },
   "outputs": [
    {
     "name": "stdout",
     "output_type": "stream",
     "text": [
      "\n",
      "\n",
      "At the city level of cost matrix calculation between Post Offices (origins) and Block Group Centroids (destinations) there are ** 127 ** instances of unexplained local increases in travel time as connector density increases accounting for 464.0086 minutes of network travel time. The instances of increase are broken down by count and increased time as follows:\n",
      "   e.g. [(connector, count)] : [(1, 0), (2, 0), (3, 54), (4, 73)]\n",
      "   e.g. [(connector, time)]  : [(1, 0.0), (2, 0.0), (3, 188.146), (4, 275.8626)]\n",
      "\n",
      "As connectors are added the lowest cost travel time should never increase from any origin destination, it should only either decrease or remain constant.\n",
      "\n",
      "However, total network travel time DOES decrease each time a connector is added:\n",
      "  e.g. [(connector, total time)] : [(1, 4674.003), (2, 4582.0089), (3, 4500.5875), (4, 4459.1942)]\n",
      "\n",
      "\n"
     ]
    }
   ],
   "source": [
    "print \"\"\n",
    "print \"\"\n",
    "print \"At the\", extent.lower() , \"level of cost matrix calculation between Post Offices (origins) and Block Group Centroids (destinations) there are **\", problem_count, \"** instances of unexplained local increases in travel time as connector density increases accounting for\", increase_time, \"minutes of network travel time. The instances of increase are broken down by count and increased time as follows:\"\n",
    "print \"   e.g. [(connector, count)] :\", problem_list\n",
    "print \"   e.g. [(connector, time)]  :\", increase_time_list\n",
    "print \"\"\n",
    "\n",
    "print \"As connectors are added the lowest cost travel time should never increase from any origin destination, it should only either decrease or remain constant.\"\n",
    "print \"\"\n",
    "\n",
    "# Print this if TOTAL tie decreases as expected\n",
    "if [time != 0 and total_time[time-1] >= total_time[time]\\\n",
    "    for time in range(len(total_time))]:\n",
    "    print \"However, total network travel time DOES decrease each time a connector is added:\"\n",
    "    print \"  e.g. [(connector, total time)] :\", total_time_list\n",
    "\n",
    "print \"\"\n",
    "print \"\""
   ]
  },
  {
   "cell_type": "markdown",
   "metadata": {},
   "source": [
    "## What-if Scenario"
   ]
  },
  {
   "cell_type": "markdown",
   "metadata": {},
   "source": [
    "*So what if make the logical assumption stated above?*\n",
    "\n",
    "* \"As connectors are added the lowest cost travel time should never increase from any origin\n",
    "   destination, it should only either decrease or remain constant.\n",
    "\n",
    "*How much of an effect will this have on the cost matices at each extent?*"
   ]
  },
  {
   "cell_type": "code",
   "execution_count": 8,
   "metadata": {
    "collapsed": true
   },
   "outputs": [],
   "source": [
    "# Function to assume no increase in travel time is possible because it should be a shortest path\n",
    "def what_if(scenarios):\n",
    "    for frame in range(len(scenarios)):\n",
    "        if frame != 0:\n",
    "            bool_array = scenarios[frame-1] >= scenarios[frame]\n",
    "            for column in bool_array.columns:\n",
    "                for record in bool_array.index:\n",
    "                    if bool_array[column][record] == False:\n",
    "                        scenarios[frame][column][record] = scenarios[frame-1][column][record]\n",
    "        scenarios[frame] = scenarios[frame].round(decimals=4)\n",
    "    return scenarios"
   ]
  },
  {
   "cell_type": "code",
   "execution_count": 9,
   "metadata": {
    "collapsed": false
   },
   "outputs": [],
   "source": [
    "what_if_scenarios = what_if(scenarios)\n",
    "what_if_network_diags = network_travel_time_comparision(what_if_scenarios)\n",
    "what_if_network_diags = list(enumerate(what_if_network_diags, 1))"
   ]
  },
  {
   "cell_type": "code",
   "execution_count": 10,
   "metadata": {
    "collapsed": false
   },
   "outputs": [
    {
     "name": "stdout",
     "output_type": "stream",
     "text": [
      "e.g.: [(connector, [problem count, [increase], total time])]\n",
      "\n",
      "    what_if_network_diags\n"
     ]
    },
    {
     "data": {
      "text/plain": [
       "[(1, [0, [0], 4674.003199999999]),\n",
       " (2, [0, [0], 4582.0094]),\n",
       " (3, [0, [0], 4495.031500000001]),\n",
       " (4, [0, [0], 4452.811300000001])]"
      ]
     },
     "execution_count": 10,
     "metadata": {},
     "output_type": "execute_result"
    }
   ],
   "source": [
    "print \"e.g.: [(connector, [problem count, [increase], total time])]\"\n",
    "print \"\"\n",
    "print \"    what_if_network_diags\"\n",
    "what_if_network_diags"
   ]
  },
  {
   "cell_type": "code",
   "execution_count": 11,
   "metadata": {
    "collapsed": false
   },
   "outputs": [
    {
     "name": "stdout",
     "output_type": "stream",
     "text": [
      "\n",
      "    total_time_list\n"
     ]
    },
    {
     "data": {
      "text/plain": [
       "[(1, 4674.003), (2, 4582.0089), (3, 4500.5875), (4, 4459.1942)]"
      ]
     },
     "execution_count": 11,
     "metadata": {},
     "output_type": "execute_result"
    }
   ],
   "source": [
    "print \"\"\n",
    "print \"    total_time_list\"\n",
    "total_time_list"
   ]
  },
  {
   "cell_type": "markdown",
   "metadata": {},
   "source": [
    "### A stable decrease in travel time is observed where accounting for the 'non-increase' logic in the what-if scenario. ###\n",
    "\n",
    "--------\n",
    "\n",
    "### How do these difference in network cost affect the optimal siting of facilities? ###"
   ]
  },
  {
   "cell_type": "markdown",
   "metadata": {
    "collapsed": true
   },
   "source": [
    "-------------------"
   ]
  }
 ],
 "metadata": {
  "anaconda-cloud": {},
  "kernelspec": {
   "display_name": "Python [conda env:py2]",
   "language": "python",
   "name": "conda-env-py2-py"
  },
  "language_info": {
   "codemirror_mode": {
    "name": "ipython",
    "version": 2
   },
   "file_extension": ".py",
   "mimetype": "text/x-python",
   "name": "python",
   "nbconvert_exporter": "python",
   "pygments_lexer": "ipython2",
   "version": "2.7.12"
  }
 },
 "nbformat": 4,
 "nbformat_minor": 0
}
